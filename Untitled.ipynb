{
 "cells": [
  {
   "cell_type": "code",
   "execution_count": 2,
   "metadata": {
    "collapsed": true
   },
   "outputs": [],
   "source": [
    "import folium\n",
    "import pandas as pd"
   ]
  },
  {
   "cell_type": "code",
   "execution_count": 3,
   "metadata": {
    "collapsed": true
   },
   "outputs": [],
   "source": [
    "data=pd.read_csv(\"Volcanoes.txt\")"
   ]
  },
  {
   "cell_type": "code",
   "execution_count": 4,
   "metadata": {},
   "outputs": [
    {
     "data": {
      "text/html": [
       "<div>\n",
       "<style>\n",
       "    .dataframe thead tr:only-child th {\n",
       "        text-align: right;\n",
       "    }\n",
       "\n",
       "    .dataframe thead th {\n",
       "        text-align: left;\n",
       "    }\n",
       "\n",
       "    .dataframe tbody tr th {\n",
       "        vertical-align: top;\n",
       "    }\n",
       "</style>\n",
       "<table border=\"1\" class=\"dataframe\">\n",
       "  <thead>\n",
       "    <tr style=\"text-align: right;\">\n",
       "      <th></th>\n",
       "      <th>VOLCANX020</th>\n",
       "      <th>NUMBER</th>\n",
       "      <th>NAME</th>\n",
       "      <th>LOCATION</th>\n",
       "      <th>STATUS</th>\n",
       "      <th>ELEV</th>\n",
       "      <th>TYPE</th>\n",
       "      <th>TIMEFRAME</th>\n",
       "      <th>LAT</th>\n",
       "      <th>LON</th>\n",
       "    </tr>\n",
       "  </thead>\n",
       "  <tbody>\n",
       "    <tr>\n",
       "      <th>0</th>\n",
       "      <td>509.0</td>\n",
       "      <td>1201-01=</td>\n",
       "      <td>Baker</td>\n",
       "      <td>US-Washington</td>\n",
       "      <td>Historical</td>\n",
       "      <td>3285.0</td>\n",
       "      <td>Stratovolcanoes</td>\n",
       "      <td>D3</td>\n",
       "      <td>48.776798</td>\n",
       "      <td>-121.810997</td>\n",
       "    </tr>\n",
       "    <tr>\n",
       "      <th>1</th>\n",
       "      <td>511.0</td>\n",
       "      <td>1201-02-</td>\n",
       "      <td>Glacier Peak</td>\n",
       "      <td>US-Washington</td>\n",
       "      <td>Tephrochronology</td>\n",
       "      <td>3213.0</td>\n",
       "      <td>Stratovolcano</td>\n",
       "      <td>D4</td>\n",
       "      <td>48.111801</td>\n",
       "      <td>-121.111000</td>\n",
       "    </tr>\n",
       "    <tr>\n",
       "      <th>2</th>\n",
       "      <td>513.0</td>\n",
       "      <td>1201-03-</td>\n",
       "      <td>Rainier</td>\n",
       "      <td>US-Washington</td>\n",
       "      <td>Dendrochronology</td>\n",
       "      <td>4392.0</td>\n",
       "      <td>Stratovolcano</td>\n",
       "      <td>D3</td>\n",
       "      <td>46.869801</td>\n",
       "      <td>-121.751000</td>\n",
       "    </tr>\n",
       "    <tr>\n",
       "      <th>3</th>\n",
       "      <td>515.0</td>\n",
       "      <td>1201-05-</td>\n",
       "      <td>St. Helens</td>\n",
       "      <td>US-Washington</td>\n",
       "      <td>Historical</td>\n",
       "      <td>2549.0</td>\n",
       "      <td>Stratovolcano</td>\n",
       "      <td>D1</td>\n",
       "      <td>46.199799</td>\n",
       "      <td>-122.181000</td>\n",
       "    </tr>\n",
       "    <tr>\n",
       "      <th>4</th>\n",
       "      <td>516.0</td>\n",
       "      <td>1201-04-</td>\n",
       "      <td>Adams</td>\n",
       "      <td>US-Washington</td>\n",
       "      <td>Tephrochronology</td>\n",
       "      <td>3742.0</td>\n",
       "      <td>Stratovolcano</td>\n",
       "      <td>D6</td>\n",
       "      <td>46.205799</td>\n",
       "      <td>-121.490997</td>\n",
       "    </tr>\n",
       "  </tbody>\n",
       "</table>\n",
       "</div>"
      ],
      "text/plain": [
       "   VOLCANX020    NUMBER          NAME       LOCATION            STATUS  \\\n",
       "0       509.0  1201-01=         Baker  US-Washington        Historical   \n",
       "1       511.0  1201-02-  Glacier Peak  US-Washington  Tephrochronology   \n",
       "2       513.0  1201-03-       Rainier  US-Washington  Dendrochronology   \n",
       "3       515.0  1201-05-    St. Helens  US-Washington        Historical   \n",
       "4       516.0  1201-04-         Adams  US-Washington  Tephrochronology   \n",
       "\n",
       "     ELEV             TYPE TIMEFRAME        LAT         LON  \n",
       "0  3285.0  Stratovolcanoes        D3  48.776798 -121.810997  \n",
       "1  3213.0    Stratovolcano        D4  48.111801 -121.111000  \n",
       "2  4392.0    Stratovolcano        D3  46.869801 -121.751000  \n",
       "3  2549.0    Stratovolcano        D1  46.199799 -122.181000  \n",
       "4  3742.0    Stratovolcano        D6  46.205799 -121.490997  "
      ]
     },
     "execution_count": 4,
     "metadata": {},
     "output_type": "execute_result"
    }
   ],
   "source": [
    "data.head()"
   ]
  },
  {
   "cell_type": "code",
   "execution_count": 10,
   "metadata": {},
   "outputs": [
    {
     "data": {
      "text/html": [
       "<div>\n",
       "<style>\n",
       "    .dataframe thead tr:only-child th {\n",
       "        text-align: right;\n",
       "    }\n",
       "\n",
       "    .dataframe thead th {\n",
       "        text-align: left;\n",
       "    }\n",
       "\n",
       "    .dataframe tbody tr th {\n",
       "        vertical-align: top;\n",
       "    }\n",
       "</style>\n",
       "<table border=\"1\" class=\"dataframe\">\n",
       "  <thead>\n",
       "    <tr style=\"text-align: right;\">\n",
       "      <th></th>\n",
       "      <th>VOLCANX020</th>\n",
       "      <th>NUMBER</th>\n",
       "      <th>NAME</th>\n",
       "      <th>LOCATION</th>\n",
       "      <th>ELEV</th>\n",
       "      <th>TYPE</th>\n",
       "      <th>TIMEFRAME</th>\n",
       "      <th>LAT</th>\n",
       "      <th>LON</th>\n",
       "    </tr>\n",
       "    <tr>\n",
       "      <th>STATUS</th>\n",
       "      <th></th>\n",
       "      <th></th>\n",
       "      <th></th>\n",
       "      <th></th>\n",
       "      <th></th>\n",
       "      <th></th>\n",
       "      <th></th>\n",
       "      <th></th>\n",
       "      <th></th>\n",
       "    </tr>\n",
       "  </thead>\n",
       "  <tbody>\n",
       "    <tr>\n",
       "      <th>Anthropology</th>\n",
       "      <td>3</td>\n",
       "      <td>3</td>\n",
       "      <td>3</td>\n",
       "      <td>3</td>\n",
       "      <td>3</td>\n",
       "      <td>3</td>\n",
       "      <td>3</td>\n",
       "      <td>3</td>\n",
       "      <td>3</td>\n",
       "    </tr>\n",
       "    <tr>\n",
       "      <th>Dendrochronology</th>\n",
       "      <td>3</td>\n",
       "      <td>3</td>\n",
       "      <td>3</td>\n",
       "      <td>3</td>\n",
       "      <td>3</td>\n",
       "      <td>3</td>\n",
       "      <td>3</td>\n",
       "      <td>3</td>\n",
       "      <td>3</td>\n",
       "    </tr>\n",
       "    <tr>\n",
       "      <th>Historical</th>\n",
       "      <td>5</td>\n",
       "      <td>5</td>\n",
       "      <td>5</td>\n",
       "      <td>5</td>\n",
       "      <td>5</td>\n",
       "      <td>5</td>\n",
       "      <td>5</td>\n",
       "      <td>5</td>\n",
       "      <td>5</td>\n",
       "    </tr>\n",
       "    <tr>\n",
       "      <th>Holocene</th>\n",
       "      <td>5</td>\n",
       "      <td>5</td>\n",
       "      <td>5</td>\n",
       "      <td>5</td>\n",
       "      <td>5</td>\n",
       "      <td>5</td>\n",
       "      <td>5</td>\n",
       "      <td>5</td>\n",
       "      <td>5</td>\n",
       "    </tr>\n",
       "    <tr>\n",
       "      <th>Holocene?</th>\n",
       "      <td>15</td>\n",
       "      <td>15</td>\n",
       "      <td>15</td>\n",
       "      <td>15</td>\n",
       "      <td>15</td>\n",
       "      <td>15</td>\n",
       "      <td>15</td>\n",
       "      <td>15</td>\n",
       "      <td>15</td>\n",
       "    </tr>\n",
       "    <tr>\n",
       "      <th>Pleistocene-Fumarolic</th>\n",
       "      <td>3</td>\n",
       "      <td>3</td>\n",
       "      <td>3</td>\n",
       "      <td>3</td>\n",
       "      <td>3</td>\n",
       "      <td>3</td>\n",
       "      <td>3</td>\n",
       "      <td>3</td>\n",
       "      <td>3</td>\n",
       "    </tr>\n",
       "    <tr>\n",
       "      <th>Radiocarbon</th>\n",
       "      <td>21</td>\n",
       "      <td>21</td>\n",
       "      <td>21</td>\n",
       "      <td>21</td>\n",
       "      <td>21</td>\n",
       "      <td>21</td>\n",
       "      <td>21</td>\n",
       "      <td>21</td>\n",
       "      <td>21</td>\n",
       "    </tr>\n",
       "    <tr>\n",
       "      <th>Tephrochronology</th>\n",
       "      <td>6</td>\n",
       "      <td>6</td>\n",
       "      <td>6</td>\n",
       "      <td>6</td>\n",
       "      <td>6</td>\n",
       "      <td>6</td>\n",
       "      <td>6</td>\n",
       "      <td>6</td>\n",
       "      <td>6</td>\n",
       "    </tr>\n",
       "    <tr>\n",
       "      <th>Varve Count</th>\n",
       "      <td>1</td>\n",
       "      <td>1</td>\n",
       "      <td>1</td>\n",
       "      <td>1</td>\n",
       "      <td>1</td>\n",
       "      <td>1</td>\n",
       "      <td>1</td>\n",
       "      <td>1</td>\n",
       "      <td>1</td>\n",
       "    </tr>\n",
       "  </tbody>\n",
       "</table>\n",
       "</div>"
      ],
      "text/plain": [
       "                       VOLCANX020  NUMBER  NAME  LOCATION  ELEV  TYPE  \\\n",
       "STATUS                                                                  \n",
       "Anthropology                    3       3     3         3     3     3   \n",
       "Dendrochronology                3       3     3         3     3     3   \n",
       "Historical                      5       5     5         5     5     5   \n",
       "Holocene                        5       5     5         5     5     5   \n",
       "Holocene?                      15      15    15        15    15    15   \n",
       "Pleistocene-Fumarolic           3       3     3         3     3     3   \n",
       "Radiocarbon                    21      21    21        21    21    21   \n",
       "Tephrochronology                6       6     6         6     6     6   \n",
       "Varve Count                     1       1     1         1     1     1   \n",
       "\n",
       "                       TIMEFRAME  LAT  LON  \n",
       "STATUS                                      \n",
       "Anthropology                   3    3    3  \n",
       "Dendrochronology               3    3    3  \n",
       "Historical                     5    5    5  \n",
       "Holocene                       5    5    5  \n",
       "Holocene?                     15   15   15  \n",
       "Pleistocene-Fumarolic          3    3    3  \n",
       "Radiocarbon                   21   21   21  \n",
       "Tephrochronology               6    6    6  \n",
       "Varve Count                    1    1    1  "
      ]
     },
     "execution_count": 10,
     "metadata": {},
     "output_type": "execute_result"
    }
   ],
   "source": [
    "data.groupby(\"STATUS\").count()"
   ]
  },
  {
   "cell_type": "code",
   "execution_count": 21,
   "metadata": {},
   "outputs": [
    {
     "ename": "ModuleNotFoundError",
     "evalue": "No module named 'matplotlib.pyplt'",
     "output_type": "error",
     "traceback": [
      "\u001b[1;31m---------------------------------------------------------------------------\u001b[0m",
      "\u001b[1;31mModuleNotFoundError\u001b[0m                       Traceback (most recent call last)",
      "\u001b[1;32m<ipython-input-21-f75e94d8a42a>\u001b[0m in \u001b[0;36m<module>\u001b[1;34m()\u001b[0m\n\u001b[1;32m----> 1\u001b[1;33m \u001b[1;32mimport\u001b[0m \u001b[0mmatplotlib\u001b[0m\u001b[1;33m.\u001b[0m\u001b[0mpyplt\u001b[0m \u001b[1;32mas\u001b[0m \u001b[0mplt\u001b[0m\u001b[1;33m\u001b[0m\u001b[0m\n\u001b[0m",
      "\u001b[1;31mModuleNotFoundError\u001b[0m: No module named 'matplotlib.pyplt'"
     ]
    }
   ],
   "source": [
    "import matplotlib.pyplt as plt\n"
   ]
  },
  {
   "cell_type": "code",
   "execution_count": 23,
   "metadata": {
    "collapsed": true
   },
   "outputs": [],
   "source": [
    "%matplotlib inline"
   ]
  },
  {
   "cell_type": "code",
   "execution_count": null,
   "metadata": {
    "collapsed": true
   },
   "outputs": [],
   "source": []
  },
  {
   "cell_type": "code",
   "execution_count": null,
   "metadata": {
    "collapsed": true
   },
   "outputs": [],
   "source": []
  },
  {
   "cell_type": "code",
   "execution_count": 25,
   "metadata": {},
   "outputs": [
    {
     "data": {
      "text/plain": [
       "<matplotlib.axes._subplots.AxesSubplot at 0xa45a748>"
      ]
     },
     "execution_count": 25,
     "metadata": {},
     "output_type": "execute_result"
    },
    {
     "data": {
      "image/png": "[encoded data removed]",
      "text/plain": [
       "<matplotlib.figure.Figure at 0xa461c50>"
      ]
     },
     "metadata": {},
     "output_type": "display_data"
    }
   ],
   "source": [
    "data['ELEV'].hist(bins=50)\n"
   ]
  },
  {
   "cell_type": "code",
   "execution_count": null,
   "metadata": {
    "collapsed": true
   },
   "outputs": [],
   "source": []
  },
  {
   "cell_type": "code",
   "execution_count": null,
   "metadata": {
    "collapsed": true
   },
   "outputs": [],
   "source": []
  },
  {
   "cell_type": "code",
   "execution_count": null,
   "metadata": {
    "collapsed": true
   },
   "outputs": [],
   "source": []
  },
  {
   "cell_type": "code",
   "execution_count": null,
   "metadata": {
    "collapsed": true
   },
   "outputs": [],
   "source": []
  },
  {
   "cell_type": "code",
   "execution_count": null,
   "metadata": {
    "collapsed": true
   },
   "outputs": [],
   "source": []
  },
  {
   "cell_type": "code",
   "execution_count": null,
   "metadata": {
    "collapsed": true
   },
   "outputs": [],
   "source": []
  },
  {
   "cell_type": "code",
   "execution_count": null,
   "metadata": {
    "collapsed": true
   },
   "outputs": [],
   "source": []
  },
  {
   "cell_type": "code",
   "execution_count": null,
   "metadata": {
    "collapsed": true
   },
   "outputs": [],
   "source": []
  },
  {
   "cell_type": "code",
   "execution_count": null,
   "metadata": {
    "collapsed": true
   },
   "outputs": [],
   "source": []
  },
  {
   "cell_type": "code",
   "execution_count": null,
   "metadata": {
    "collapsed": true
   },
   "outputs": [],
   "source": []
  },
  {
   "cell_type": "code",
   "execution_count": null,
   "metadata": {
    "collapsed": true
   },
   "outputs": [],
   "source": []
  },
  {
   "cell_type": "code",
   "execution_count": null,
   "metadata": {
    "collapsed": true
   },
   "outputs": [],
   "source": []
  },
  {
   "cell_type": "code",
   "execution_count": null,
   "metadata": {
    "collapsed": true
   },
   "outputs": [],
   "source": []
  },
  {
   "cell_type": "code",
   "execution_count": null,
   "metadata": {
    "collapsed": true
   },
   "outputs": [],
   "source": []
  },
  {
   "cell_type": "code",
   "execution_count": 29,
   "metadata": {},
   "outputs": [
    {
     "ename": "SyntaxError",
     "evalue": "EOL while scanning string literal (<ipython-input-29-b9ce25285990>, line 23)",
     "output_type": "error",
     "traceback": [
      "\u001b[1;36m  File \u001b[1;32m\"<ipython-input-29-b9ce25285990>\"\u001b[1;36m, line \u001b[1;32m23\u001b[0m\n\u001b[1;33m    fg.add_child(folium.GeoJson(data=open('world.json','r',encoding='utf-8-sig)))\u001b[0m\n\u001b[1;37m                                                                                          ^\u001b[0m\n\u001b[1;31mSyntaxError\u001b[0m\u001b[1;31m:\u001b[0m EOL while scanning string literal\n"
     ]
    }
   ],
   "source": [
    "import folium\n",
    "import pandas as pd\n",
    "def color_producer(elevation):\n",
    "    if elevation<1000:\n",
    "        return \"green\"\n",
    "    elif elevation<3000:\n",
    "        return \"orange\"\n",
    "    else:\n",
    "        return 'red'\n",
    "\n",
    "map1=folium.Map([38,-100],zoom_start=6,tiles=\"Mapbox Bright\")\n",
    "\n",
    "data=pd.read_csv(\"Volcanoes.txt\")\n",
    "lat=list(data[\"LAT\"])\n",
    "lon=list(data[\"LON\"])\n",
    "elev=list(data[\"ELEV\"])\n",
    "\n",
    "fg=folium.FeatureGroup(name=\"my_map\")\n",
    "for lt,ln,el in zip(lat,lon,elev):\n",
    "    fg.add_child(folium.Marker(location=[lt,ln],popup=str(el)+\" m\",icon=folium.Icon(color_producer(el))))\n",
    "    #fg.add_child(folium.CircleMarker(location[lt,ln],popup=str(el)+\"m\",fill=True,radius=6,color='grey',fill_opacity=0.7,fill_color=(color_producer(el))))\n",
    "                 \n",
    "fg.add_child(folium.GeoJson(data=open('world.json','r',encoding='utf-8-sig)))         \n",
    "map1.add_child(fg)\n",
    "map1.save(\"map1.html\")"
   ]
  },
  {
   "cell_type": "code",
   "execution_count": null,
   "metadata": {
    "collapsed": true
   },
   "outputs": [],
   "source": []
  },
  {
   "cell_type": "code",
   "execution_count": null,
   "metadata": {
    "collapsed": true
   },
   "outputs": [],
   "source": []
  },
  {
   "cell_type": "code",
   "execution_count": null,
   "metadata": {
    "collapsed": true
   },
   "outputs": [],
   "source": []
  },
  {
   "cell_type": "code",
   "execution_count": null,
   "metadata": {
    "collapsed": true
   },
   "outputs": [],
   "source": []
  },
  {
   "cell_type": "code",
   "execution_count": null,
   "metadata": {
    "collapsed": true
   },
   "outputs": [],
   "source": []
  }
 ],
 "metadata": {
  "kernelspec": {
   "display_name": "Python 3",
   "language": "python",
   "name": "python3"
  }
 },
 "nbformat": 4,
 "nbformat_minor": 2
}
